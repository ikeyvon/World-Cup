{
 "cells": [
  {
   "cell_type": "markdown",
   "metadata": {},
   "source": [
    "# World Cup Skratch"
   ]
  },
  {
   "cell_type": "markdown",
   "metadata": {},
   "source": [
    "## `splitter` function for splitting input scores "
   ]
  },
  {
   "cell_type": "code",
   "execution_count": 114,
   "metadata": {},
   "outputs": [
    {
     "data": {
      "text/plain": [
       "[0, 2]"
      ]
     },
     "execution_count": 114,
     "metadata": {},
     "output_type": "execute_result"
    }
   ],
   "source": [
    "hi = '0, 2' # .  \n",
    "def splitter(inStr):\n",
    "    if ', ' in inStr:\n",
    "        inStr = inStr.split(', ')\n",
    "    else:\n",
    "        inStr = inStr.split(',')\n",
    "    return [eval(i) for i in inStr]\n",
    "splitter(hi)"
   ]
  },
  {
   "cell_type": "markdown",
   "metadata": {},
   "source": [
    "## Getting list of teams in dictionary form"
   ]
  },
  {
   "cell_type": "code",
   "execution_count": 113,
   "metadata": {},
   "outputs": [
    {
     "name": "stdout",
     "output_type": "stream",
     "text": [
      "{'Qatar': {'Points': 0, 'Goals For': 0, 'Goals Against': 0, 'Goal Difference': 0}, 'Ecuador': {'Points': 0, 'Goals For': 0, 'Goals Against': 0, 'Goal Difference': 0}, 'Senegal': {'Points': 0, 'Goals For': 0, 'Goals Against': 0, 'Goal Difference': 0}, 'Netherlands': {'Points': 0, 'Goals For': 0, 'Goals Against': 0, 'Goal Difference': 0}}\n"
     ]
    }
   ],
   "source": [
    "new_DICT = {}\n",
    "new_DICT['Group A'] = {   'Teams':\n",
    "                                    {\n",
    "                                        'Qatar': {'Points': 0, 'Goals For': 0, 'Goals Against': 0, 'Goal Difference': 0},\n",
    "                                        'Ecuador': {'Points': 0, 'Goals For': 0, 'Goals Against': 0, 'Goal Difference': 0},\n",
    "                                        'Senegal': {'Points': 0, 'Goals For': 0, 'Goals Against': 0, 'Goal Difference': 0},\n",
    "                                        'Netherlands': {'Points': 0, 'Goals For': 0, 'Goals Against': 0, 'Goal Difference': 0}\n",
    "                                    },\n",
    "                                'Rankings': []\n",
    "                            }\n",
    "print(new_DICT['Group A']['Teams'])"
   ]
  },
  {
   "cell_type": "markdown",
   "metadata": {},
   "source": [
    "## Ranking Teams"
   ]
  },
  {
   "cell_type": "markdown",
   "metadata": {},
   "source": [
    "### Ranking teams in dictionary form"
   ]
  },
  {
   "cell_type": "code",
   "execution_count": 97,
   "metadata": {},
   "outputs": [
    {
     "name": "stdout",
     "output_type": "stream",
     "text": [
      "[['Qatar', 0, 2, 11, -9], ['Ecuador', 3, 5, 8, -3], ['Senegal', 6, 11, 3, 8], ['Netherlands', 6, 9, 5, 4]]\n",
      "[['Senegal', 6, 11, 3, 8], ['Netherlands', 6, 9, 5, 4], ['Ecuador', 3, 5, 8, -3], ['Qatar', 0, 2, 11, -9]]\n"
     ]
    }
   ],
   "source": [
    "new_DICT = {}\n",
    "new_DICT['Group A'] =   {   'Teams':\n",
    "                                {\n",
    "                                'Qatar': {'Points': 0, 'Goals For': 2, 'Goals Against': 11, 'Goal Difference': -9},\n",
    "                                'Ecuador': {'Points': 3, 'Goals For': 5, 'Goals Against': 8, 'Goal Difference': -3},\n",
    "                                'Senegal': {'Points': 6, 'Goals For': 11, 'Goals Against': 3, 'Goal Difference': 8},\n",
    "                                'Netherlands': {'Points': 6, 'Goals For': 9, 'Goals Against': 5, 'Goal Difference': 4}\n",
    "                                },\n",
    "                            'Rankings': []\n",
    "                        }\n",
    "\n",
    "# list_of_points = [new_DICT['Group A']['Teams'][i]['Points'] for i in new_DICT['Group A']['Teams']]\n",
    "# teams = list(new_DICT['Group A']['Teams'])\n",
    "# print(f\"Teams: {teams}, Points: {list_of_points}\")\n",
    "\n",
    "# maxVal = max(list_of_points)\n",
    "# maxIndex = list_of_points.index(maxVal)\n",
    "# if maxVal not in list_of_points[:maxIndex] and maxVal not in list_of_points[maxIndex:]:\n",
    "#     maxCountry = teams[maxIndex]\n",
    "#     new_DICT['Group A']['Rankings'].append(maxCountry)\n",
    "\n",
    "# print(new_DICT['Group A']['Rankings'])\n",
    "\n",
    "# ['Country', Points, GoalsFor, GoalsAgainst, GoalDifference]\n",
    "group_list = []\n",
    "for i in new_DICT['Group A']['Teams']:\n",
    "    team_list = []\n",
    "    team_list.append(i)\n",
    "    for j in new_DICT['Group A']['Teams'][i]:\n",
    "        team_list.append(new_DICT['Group A']['Teams'][i][j])\n",
    "    group_list.append(team_list)\n",
    "\n",
    "print(group_list)\n",
    "\n",
    "a = sorted(group_list, key=lambda x: x[1:4], reverse=True)\n",
    "print(a)\n",
    "\n",
    "# new_DICT['Group A'] =   {   'Teams':\n",
    "#                                 [\n",
    "#                                 ['Qatar', 0, 2, 11, -9],\n",
    "#                                 ['Ecuador', 3, 5, 8, -3],\n",
    "#                                 ['Senegal', 6, 11, 3, 8],\n",
    "#                                 ['Netherlands' 6, 9, 5, 4]\n",
    "#                                 ],\n",
    "#                             'Rankings': []\n",
    "#                         }\n",
    "\n",
    "\n",
    "\n",
    "\n",
    "\n"
   ]
  },
  {
   "cell_type": "markdown",
   "metadata": {},
   "source": [
    "### Learning to use lambda functions"
   ]
  },
  {
   "cell_type": "code",
   "execution_count": 75,
   "metadata": {},
   "outputs": [
    {
     "name": "stdout",
     "output_type": "stream",
     "text": [
      "[('apple', 10, 100, 50), ('candy', 10, 100, 100), ('baby', 20, 10, 300)]\n"
     ]
    }
   ],
   "source": [
    "lst = [('candy',10,100,100), ('apple',10,100,50), ('baby',20, 10, 300)]\n",
    "lst.sort(key=lambda x:x[1:4])\n",
    "print(lst)"
   ]
  },
  {
   "cell_type": "code",
   "execution_count": 86,
   "metadata": {},
   "outputs": [
    {
     "name": "stdout",
     "output_type": "stream",
     "text": [
      "[(1, 1, 1), (1, 1, 2), (1, 2, 1)]\n"
     ]
    }
   ],
   "source": [
    "x = [(1,1,1), (1,2,1), (1,1,2)]\n",
    "a = sorted(x, key=lambda x: x[1:2], reverse=False)\n",
    "print(a)"
   ]
  },
  {
   "cell_type": "code",
   "execution_count": 91,
   "metadata": {},
   "outputs": [
    {
     "name": "stdout",
     "output_type": "stream",
     "text": [
      "[['Baba', 1, 1, 1], ['Mother', 1, 1, 2], ['Keyvon', 1, 2, 1]]\n"
     ]
    }
   ],
   "source": [
    "x = [['Baba',1,1,1], ['Keyvon',1,2,1], ['Mother',1,1,2]]\n",
    "a = sorted(x, key=lambda x: x[1:3], reverse=False)\n",
    "print(a)"
   ]
  },
  {
   "cell_type": "markdown",
   "metadata": {},
   "source": [
    "### Using lambda functions to rank teams in list form"
   ]
  },
  {
   "cell_type": "code",
   "execution_count": 111,
   "metadata": {},
   "outputs": [
    {
     "name": "stdout",
     "output_type": "stream",
     "text": [
      "[['Qatar', 0, -9, 2, 11], ['Ecuador', 3, -3, 5, 8], ['Senegal', 9, 8, 11, 3], ['Netherlands', 6, 4, 9, 5]]\n",
      "['Senegal', 'Netherlands', 'Ecuador', 'Qatar']\n"
     ]
    }
   ],
   "source": [
    "group = {   'Teams':\n",
    "            [ # [Country,       P, GD, GF, GA,         \n",
    "                ['Qatar',       0, -9,  2, 11],\n",
    "                ['Ecuador',     3, -3,  5,  8],\n",
    "                ['Senegal',     9,  8, 11,  3],\n",
    "                ['Netherlands', 6,  4,  9,  5]\n",
    "            ],\n",
    "        'Rankings': []\n",
    "    }\n",
    "group_in_list = group['Teams']\n",
    "print(group_in_list)\n",
    "\n",
    "\n",
    "rankings = sorted(group_in_list, key=lambda x: x[1:4], reverse=True)\n",
    "group['Rankings'] = [i[0] for i in rankings]\n",
    "\n",
    "print(group['Rankings'])"
   ]
  },
  {
   "cell_type": "markdown",
   "metadata": {},
   "source": [
    "## Printing lists"
   ]
  },
  {
   "cell_type": "code",
   "execution_count": 117,
   "metadata": {},
   "outputs": [
    {
     "name": "stdout",
     "output_type": "stream",
     "text": [
      "This is Group A with Senegal, Netherlands, Ecuador, Qatar\n"
     ]
    }
   ],
   "source": [
    "group_name = 'Group A'\n",
    "list_of_teams = ['Senegal', 'Netherlands', 'Ecuador', 'Qatar']\n",
    "print(f\"This is {group_name} with {', '.join(list_of_teams)}\")"
   ]
  },
  {
   "cell_type": "markdown",
   "metadata": {},
   "source": [
    "## Ideas for making tournament\n",
    "+ using a dictionary to hold the whole things\n",
    "    + complete all games before going to next round\n",
    "+ using a class object\n",
    "    + still hold tournament stuff in dictionary\n",
    "    + or seperate dictionaries or lists\n",
    "    + can define class functions for displaying specific things"
   ]
  },
  {
   "cell_type": "code",
   "execution_count": 118,
   "metadata": {},
   "outputs": [],
   "source": [
    "def make_WC_dictionary():\n",
    "    new_DICT = {}\n",
    "    new_DICT['Group A'] = {   'Teams':\n",
    "                                    [ # [Country,        P,GF,GA,GD      \n",
    "                                        ['Qatar',        0, 0, 0, 0],\n",
    "                                        ['Ecuador',      0, 0, 0, 0],\n",
    "                                        ['Senegal',      0, 0, 0, 0],\n",
    "                                        ['Netherlands',  0, 0, 0, 0]\n",
    "                                    ],\n",
    "                                'Rankings': []\n",
    "                            }\n",
    "    new_DICT['Group B'] = {   'Teams':\n",
    "                                    [\n",
    "                                        ['England',         0,0,0,0],\n",
    "                                        ['Iran',             0,0,0,0],\n",
    "                                        ['United States',    0,0,0,0],\n",
    "                                        ['Wales',            0,0,0,0]\n",
    "                                    ],\n",
    "                                'Rankings': []\n",
    "                            }\n",
    "    new_DICT['Group C'] = {   'Teams':\n",
    "                                    [\n",
    "                                        ['Argentina',    0, 0, 0, 0],\n",
    "                                        ['Saudi Arabia', 0, 0, 0, 0],\n",
    "                                        ['Mexico',       0, 0, 0, 0],\n",
    "                                        ['Poland',       0, 0, 0, 0]\n",
    "                                    ],\n",
    "                                'Rankings': []\n",
    "                            }\n",
    "    new_DICT['Group D'] = {   'Teams':\n",
    "                                    [\n",
    "                                        ['France',    0, 0, 0, 0],\n",
    "                                        ['Australia', 0, 0, 0, 0],\n",
    "                                        ['Denmark',   0, 0, 0, 0],\n",
    "                                        ['Tunisia',   0, 0, 0, 0]\n",
    "                                    ],\n",
    "                                'Rankings': []\n",
    "                            }\n",
    "    new_DICT['Group E'] = {   'Teams':\n",
    "                                    [\n",
    "                                        ['Spain'    , 0, 0, 0, 0],\n",
    "                                        ['Costa Rica', 0, 0, 0, 0],\n",
    "                                        ['Germany'  , 0, 0, 0, 0],\n",
    "                                        ['Japan'    , 0, 0, 0, 0]\n",
    "                                    ],\n",
    "                                'Rankings': []\n",
    "                            }\n",
    "    new_DICT['Group F'] = {   'Teams':\n",
    "                                    [\n",
    "                                        ['Belgium', 0, 0, 0, 0],\n",
    "                                        ['Canada', 0, 0, 0, 0],\n",
    "                                        ['Morocco', 0, 0, 0, 0],\n",
    "                                        ['Croatia', 0, 0, 0, 0]\n",
    "                                    ],\n",
    "                                'Rankings': []\n",
    "                            }\n",
    "    new_DICT['Group G'] = {   'Teams':\n",
    "                                    [\n",
    "                                        ['Brazil', 0, 0, 0, 0],\n",
    "                                        ['Serbia', 0, 0, 0, 0],\n",
    "                                        ['Switzerland', 0, 0, 0, 0],\n",
    "                                        ['Cameroon', 0, 0, 0, 0]\n",
    "                                    ],\n",
    "                                'Rankings': []\n",
    "                            }\n",
    "    new_DICT['Group H'] = {   'Teams':\n",
    "                                    [\n",
    "                                        ['Portugal', 0, 0, 0, 0],\n",
    "                                        ['Ghana', 0, 0, 0, 0],\n",
    "                                        ['Uruguay', 0, 0, 0, 0],\n",
    "                                        ['SouthKorea', 0, 0, 0, 0]\n",
    "                                    ],\n",
    "                                'Rankings': []\n",
    "                            }\n",
    "    return new_DICT"
   ]
  },
  {
   "cell_type": "markdown",
   "metadata": {},
   "source": [
    "## Get the first 2 teams of each group for testing"
   ]
  },
  {
   "cell_type": "code",
   "execution_count": 119,
   "metadata": {},
   "outputs": [
    {
     "name": "stdout",
     "output_type": "stream",
     "text": [
      "[['Qatar', 'Ecuador'], ['England', 'Iran'], ['Argentina', 'Saudi Arabia'], ['France', 'Australia'], ['Spain', 'Costa Rica'], ['Belgium', 'Canada'], ['Brazil', 'Serbia'], ['Portugal', 'Ghana']]\n"
     ]
    }
   ],
   "source": [
    "WC_DICT = make_WC_dictionary()\n",
    "    # print(f\"The matchups will appear as 'Team1 VS Team2', write your predicted score in the format '0,3' to indicate a final score of Team1: 0, Team2: 3\\n\")\n",
    "    # for all groups\n",
    "ko_teams = []\n",
    "for it_group in WC_DICT:\n",
    "    newteams = [j[0] for j in WC_DICT[it_group]['Teams'][0:2]]\n",
    "    ko_teams.append(newteams)\n",
    "print(ko_teams)"
   ]
  },
  {
   "cell_type": "code",
   "execution_count": 191,
   "metadata": {},
   "outputs": [
    {
     "name": "stdout",
     "output_type": "stream",
     "text": [
      "Qatar VS Iran\n"
     ]
    }
   ],
   "source": [
    "A = 0\n",
    "B = 1\n",
    "C = 2\n",
    "D = 3\n",
    "E = 4\n",
    "F = 5\n",
    "G = 6\n",
    "H = 7\n",
    "\n",
    "FIRST = 0\n",
    "SECOND = 1\n",
    "\n",
    "group_assign = [[A,B],[B,A],[C,D],[D,C],[E,F],[F,E],[G,H],[H,G]]\n",
    "first_rounds = ['L1R16', 'L2R16', 'L3R16', 'L4R16', 'R1R16', 'R2R16', 'R3R16', 'R4R16']\n",
    "\n"
   ]
  },
  {
   "cell_type": "code",
   "execution_count": 212,
   "metadata": {},
   "outputs": [],
   "source": [
    "class Tournament:\n",
    "    def __init__(self, teams):\n",
    "        self.bracket = {\n",
    "                                                    'Final': {\n",
    "                                                        'Teams': [],\n",
    "                                                        'Score': [],\n",
    "                                                        'Winner': ''\n",
    "                                                    },\n",
    "                                                    'ThirdPlaceGame': {\n",
    "                                                        'Teams': [],\n",
    "                                                        'Score': [],\n",
    "                                                        'Winner': ''\n",
    "                                                    },\n",
    "            'LeftSemiFinal': {\n",
    "                'Teams': [],\n",
    "                'Score': [],\n",
    "                'Winner': '',\n",
    "                'NextGame': ['Final', 'ThirdPlaceGame']\n",
    "            },\n",
    "            'LeftTopQuarterFinal': {\n",
    "                'Teams': [],\n",
    "                'Score': [],\n",
    "                'Winner': '',\n",
    "                'NextGame': 'LeftSemiFinal'\n",
    "            },\n",
    "            'LeftBottomQuarterFinal': {\n",
    "                'Teams': [],\n",
    "                'Score': [],\n",
    "                'Winner': '',\n",
    "                'NextGame': 'LeftSemiFinal'\n",
    "            },\n",
    "            'L1R16': {\n",
    "                'Teams': [],\n",
    "                'Score': [],\n",
    "                'Winner': '',\n",
    "                'NextGame': 'LeftTopQuarterFinal'\n",
    "            },\n",
    "            'L2R16': {\n",
    "                'Teams': [],\n",
    "                'Score': [],\n",
    "                'Winner': '',\n",
    "                'NextGame': 'LeftTopQuarterFinal'\n",
    "            },\n",
    "            'L3R16': {\n",
    "                'Teams': [],\n",
    "                'Score': [],\n",
    "                'Winner': '',\n",
    "                'NextGame': 'LeftBottomQuarterFinal'\n",
    "            },\n",
    "            'L4R16': {\n",
    "                'Teams': [],\n",
    "                'Score': [],\n",
    "                'Winner': '',\n",
    "                'NextGame': 'LeftBottomQuarterFinal'\n",
    "            },\n",
    "                                                                        'RightSemiFinal': {\n",
    "                                                                            'Teams': [],\n",
    "                                                                            'Score': [],\n",
    "                                                                            'Winner': '',\n",
    "                                                                            'NextGame': ['Final', 'ThirdPlaceGame']\n",
    "                                                                        },\n",
    "                                                                        'RightTopQuarterFinal': {\n",
    "                                                                            'Teams': [],\n",
    "                                                                            'Score': [],\n",
    "                                                                            'Winner': '',\n",
    "                                                                            'NextGame': 'RightSemiFinal'\n",
    "                                                                        },\n",
    "                                                                        'RightBottomQuarterFinal': {\n",
    "                                                                            'Teams': [],\n",
    "                                                                            'Score': [],\n",
    "                                                                            'Winner': '',\n",
    "                                                                            'NextGame': 'RightSemiFinal'\n",
    "                                                                        },\n",
    "                                                                        'R1R16': {\n",
    "                                                                            'Teams': [],\n",
    "                                                                            'Score': [],\n",
    "                                                                            'Winner': '',\n",
    "                                                                            'NextGame': 'RightTopQuarterFinal'\n",
    "                                                                        },\n",
    "                                                                        'R2R16': {\n",
    "                                                                            'Teams': [],\n",
    "                                                                            'Score': [],\n",
    "                                                                            'Winner': '',\n",
    "                                                                            'NextGame': 'RightTopQuarterFinal'\n",
    "                                                                        },\n",
    "                                                                        'R3R16': {\n",
    "                                                                            'Teams': [],\n",
    "                                                                            'Score': [],\n",
    "                                                                            'Winner': '',\n",
    "                                                                            'NextGame': 'RightBottomQuarterFinal'\n",
    "                                                                        },\n",
    "                                                                        'R4R16': {\n",
    "                                                                            'Teams': [],\n",
    "                                                                            'Score': [],\n",
    "                                                                            'Winner': '',\n",
    "                                                                            'NextGame': 'RightBottomQuarterFinal'\n",
    "                                                                        }\n",
    "\n",
    "            }\n",
    "        self.teams = teams\n",
    "        self.group_assign = [[A,B],[B,A],[C,D],[D,C],[E,F],[F,E],[G,H],[H,G]]\n",
    "        self.first_rounds = ['L1R16', 'L2R16', 'L3R16', 'L4R16', 'R1R16', 'R2R16', 'R3R16', 'R4R16']\n",
    "\n",
    "    def make_bracket(self):\n",
    "        # starting at quarterfinals, make bracket\n",
    "        for i in range(len(self.first_rounds)):\n",
    "            cur_round = self.first_rounds[i]\n",
    "            cur_matchups = self.group_assign[i]\n",
    "\n",
    "            team1 = self.teams[cur_matchups[0]][FIRST]\n",
    "            print(f\"{chr(cur_matchups[0]+65)}{FIRST+1}: {team1}\")\n",
    "\n",
    "            team2 = self.teams[cur_matchups[1]][SECOND]\n",
    "            print(f\"{chr(cur_matchups[1]+65)}{SECOND+1}: {team2}\")\n",
    "\n",
    "            self.bracket[self.first_rounds[i]]['Teams'] = [team1, team2]\n",
    "    \n",
    "    def play_bracket(self):\n",
    "        return 2\n",
    "    def get_winner(self):\n",
    "        return self.bracket['Final']['Winner']\n",
    "    def get_runner_up(self):\n",
    "        for i in self.bracket['Final']['Teams']:\n",
    "            if self.bracket['Final']['Winner'] != i:\n",
    "                runner_up = i\n",
    "                return runner_up\n",
    "        return -1\n",
    "    def get_third_place(self):\n",
    "        return self.bracket['ThirdPlaceGame']['Winner']\n",
    "    def disp(self):\n",
    "        for i in self.bracket:\n",
    "            print(f\"{i}: {self.bracket[i]}\")\n"
   ]
  },
  {
   "cell_type": "code",
   "execution_count": 213,
   "metadata": {},
   "outputs": [
    {
     "name": "stdout",
     "output_type": "stream",
     "text": [
      "A1: Qatar\n",
      "B2: Iran\n",
      "B1: England\n",
      "A2: Ecuador\n",
      "C1: Argentina\n",
      "D2: Australia\n",
      "D1: France\n",
      "C2: Saudi Arabia\n",
      "E1: Spain\n",
      "F2: Canada\n",
      "F1: Belgium\n",
      "E2: Costa Rica\n",
      "G1: Brazil\n",
      "H2: Ghana\n",
      "H1: Portugal\n",
      "G2: Serbia\n",
      "Final: {'Teams': [], 'Score': [], 'Winner': ''}\n",
      "ThirdPlaceGame: {'Teams': [], 'Score': [], 'Winner': ''}\n",
      "LeftSemiFinal: {'Teams': [], 'Score': [], 'Winner': '', 'NextGame': ['Final', 'ThirdPlaceGame']}\n",
      "LeftTopQuarterFinal: {'Teams': [], 'Score': [], 'Winner': '', 'NextGame': 'LeftSemiFinal'}\n",
      "LeftBottomQuarterFinal: {'Teams': [], 'Score': [], 'Winner': '', 'NextGame': 'LeftSemiFinal'}\n",
      "L1R16: {'Teams': ['Qatar', 'Iran'], 'Score': [], 'Winner': '', 'NextGame': 'LeftTopQuarterFinal'}\n",
      "L2R16: {'Teams': ['England', 'Ecuador'], 'Score': [], 'Winner': '', 'NextGame': 'LeftTopQuarterFinal'}\n",
      "L3R16: {'Teams': ['Argentina', 'Australia'], 'Score': [], 'Winner': '', 'NextGame': 'LeftBottomQuarterFinal'}\n",
      "L4R16: {'Teams': ['France', 'Saudi Arabia'], 'Score': [], 'Winner': '', 'NextGame': 'LeftBottomQuarterFinal'}\n",
      "RightSemiFinal: {'Teams': [], 'Score': [], 'Winner': '', 'NextGame': ['Final', 'ThirdPlaceGame']}\n",
      "RightTopQuarterFinal: {'Teams': [], 'Score': [], 'Winner': '', 'NextGame': 'RightSemiFinal'}\n",
      "RightBottomQuarterFinal: {'Teams': [], 'Score': [], 'Winner': '', 'NextGame': 'RightSemiFinal'}\n",
      "R1R16: {'Teams': ['Spain', 'Canada'], 'Score': [], 'Winner': '', 'NextGame': 'RightTopQuarterFinal'}\n",
      "R2R16: {'Teams': ['Belgium', 'Costa Rica'], 'Score': [], 'Winner': '', 'NextGame': 'RightTopQuarterFinal'}\n",
      "R3R16: {'Teams': ['Brazil', 'Ghana'], 'Score': [], 'Winner': '', 'NextGame': 'RightBottomQuarterFinal'}\n",
      "R4R16: {'Teams': ['Portugal', 'Serbia'], 'Score': [], 'Winner': '', 'NextGame': 'RightBottomQuarterFinal'}\n"
     ]
    }
   ],
   "source": [
    "qual_teams = [['Qatar', 'Ecuador'], ['England', 'Iran'], ['Argentina', 'Saudi Arabia'], ['France', 'Australia'], ['Spain', 'Costa Rica'], ['Belgium', 'Canada'], ['Brazil', 'Serbia'], ['Portugal', 'Ghana']]\n",
    "newWC = Tournament(qual_teams)\n",
    "newWC.make_bracket()\n",
    "# print(newWC.teams)\n",
    "newWC.disp()\n",
    "\n"
   ]
  },
  {
   "cell_type": "code",
   "execution_count": 11,
   "metadata": {},
   "outputs": [
    {
     "ename": "UnidentifiedImageError",
     "evalue": "cannot identify image file <_io.BytesIO object at 0x7f8e1b77da98>",
     "output_type": "error",
     "traceback": [
      "\u001b[0;31m---------------------------------------------------------------------------\u001b[0m",
      "\u001b[0;31mUnidentifiedImageError\u001b[0m                    Traceback (most recent call last)",
      "\u001b[0;32m<ipython-input-11-09237aa334c0>\u001b[0m in \u001b[0;36m<module>\u001b[0;34m\u001b[0m\n\u001b[1;32m      5\u001b[0m \u001b[0murl\u001b[0m \u001b[0;34m=\u001b[0m \u001b[0;34m'https://cdn.britannica.com/69/5869-004-7D75CD05/Flag-Yemen.jpg'\u001b[0m\u001b[0;34m\u001b[0m\u001b[0;34m\u001b[0m\u001b[0m\n\u001b[1;32m      6\u001b[0m \u001b[0mresponse\u001b[0m \u001b[0;34m=\u001b[0m \u001b[0mrequests\u001b[0m\u001b[0;34m.\u001b[0m\u001b[0mget\u001b[0m\u001b[0;34m(\u001b[0m\u001b[0murl\u001b[0m\u001b[0;34m)\u001b[0m\u001b[0;34m\u001b[0m\u001b[0;34m\u001b[0m\u001b[0m\n\u001b[0;32m----> 7\u001b[0;31m \u001b[0mimg\u001b[0m \u001b[0;34m=\u001b[0m \u001b[0mImage\u001b[0m\u001b[0;34m.\u001b[0m\u001b[0mopen\u001b[0m\u001b[0;34m(\u001b[0m\u001b[0mBytesIO\u001b[0m\u001b[0;34m(\u001b[0m\u001b[0mresponse\u001b[0m\u001b[0;34m.\u001b[0m\u001b[0mcontent\u001b[0m\u001b[0;34m)\u001b[0m\u001b[0;34m)\u001b[0m\u001b[0;34m\u001b[0m\u001b[0;34m\u001b[0m\u001b[0m\n\u001b[0m\u001b[1;32m      8\u001b[0m \u001b[0mimg\u001b[0m\u001b[0;34m\u001b[0m\u001b[0;34m\u001b[0m\u001b[0m\n",
      "\u001b[0;32m~/anaconda3/lib/python3.7/site-packages/PIL/Image.py\u001b[0m in \u001b[0;36mopen\u001b[0;34m(fp, mode, formats)\u001b[0m\n\u001b[1;32m   2957\u001b[0m         \u001b[0mwarnings\u001b[0m\u001b[0;34m.\u001b[0m\u001b[0mwarn\u001b[0m\u001b[0;34m(\u001b[0m\u001b[0mmessage\u001b[0m\u001b[0;34m)\u001b[0m\u001b[0;34m\u001b[0m\u001b[0;34m\u001b[0m\u001b[0m\n\u001b[1;32m   2958\u001b[0m     raise UnidentifiedImageError(\n\u001b[0;32m-> 2959\u001b[0;31m         \u001b[0;34m\"cannot identify image file %r\"\u001b[0m \u001b[0;34m%\u001b[0m \u001b[0;34m(\u001b[0m\u001b[0mfilename\u001b[0m \u001b[0;32mif\u001b[0m \u001b[0mfilename\u001b[0m \u001b[0;32melse\u001b[0m \u001b[0mfp\u001b[0m\u001b[0;34m)\u001b[0m\u001b[0;34m\u001b[0m\u001b[0;34m\u001b[0m\u001b[0m\n\u001b[0m\u001b[1;32m   2960\u001b[0m     )\n\u001b[1;32m   2961\u001b[0m \u001b[0;34m\u001b[0m\u001b[0m\n",
      "\u001b[0;31mUnidentifiedImageError\u001b[0m: cannot identify image file <_io.BytesIO object at 0x7f8e1b77da98>"
     ]
    }
   ],
   "source": [
    "from PIL import Image\n",
    "import requests\n",
    "from io import BytesIO\n",
    "\n",
    "url = 'https://cdn.britannica.com/69/5869-004-7D75CD05/Flag-Argentina.jpg'\n",
    "response = requests.get(url)\n",
    "img = Image.open(BytesIO(response.content))\n",
    "img"
   ]
  }
 ],
 "metadata": {
  "kernelspec": {
   "display_name": "Python 3.7.3 ('base')",
   "language": "python",
   "name": "python3"
  },
  "language_info": {
   "codemirror_mode": {
    "name": "ipython",
    "version": 3
   },
   "file_extension": ".py",
   "mimetype": "text/x-python",
   "name": "python",
   "nbconvert_exporter": "python",
   "pygments_lexer": "ipython3",
   "version": "3.7.3"
  },
  "orig_nbformat": 4,
  "vscode": {
   "interpreter": {
    "hash": "7c1a9026651694d0aac99f9c63c1e2d1e3349bf9e4669af75419306c9e6b07b4"
   }
  }
 },
 "nbformat": 4,
 "nbformat_minor": 2
}
